{
 "cells": [
  {
   "cell_type": "markdown",
   "metadata": {},
   "source": [
    "<h1>Mean Shift Applied to Titanic Dataset</h1>"
   ]
  },
  {
   "cell_type": "code",
   "execution_count": 1,
   "metadata": {},
   "outputs": [],
   "source": [
    "import numpy as np\n",
    "from sklearn.cluster import MeanShift, KMeans\n",
    "from sklearn import preprocessing, model_selection\n",
    "import pandas as pd\n",
    "import matplotlib.pyplot as plt"
   ]
  },
  {
   "cell_type": "markdown",
   "metadata": {},
   "source": [
    "* __Pclass__ Passenger Class (1 = 1st; 2 = 2nd; 3 = 3rd)\n",
    "* __survival__ Survival (0 = No; 1 = Yes)\n",
    "* __name__ Name\n",
    "* __sex__ Sex\n",
    "* __age__ Age\n",
    "* __sibsp__ Number of Siblings/Spouses Aboard\n",
    "* __parch__ Number of Parents/Children Aboard\n",
    "* __ticket__ Ticket Number\n",
    "* __fare__ Passenger Fare (British pound)\n",
    "* __cabin__ Cabin\n",
    "* __embarked__ Port of Embarkation (C = Cherbourg; Q = Queenstown; S = Southampton)\n",
    "* __boat__ Lifeboat\n",
    "* __body__ Body Identification Number\n",
    "* __home.dest__ Home/Destination"
   ]
  },
  {
   "cell_type": "code",
   "execution_count": 2,
   "metadata": {},
   "outputs": [],
   "source": [
    "# https://pythonprogramming.net/static/downloads/machine-learning-data/titanic.xls\n",
    "df = pd.read_excel('titanic.xls')\n",
    "\n",
    "original_df = pd.DataFrame.copy(df)\n",
    "df.drop(['body','name'], 1, inplace=True)\n",
    "df.fillna(0,inplace=True)"
   ]
  },
  {
   "cell_type": "code",
   "execution_count": 3,
   "metadata": {},
   "outputs": [],
   "source": [
    "def handle_non_numerical_data(df):\n",
    "    \n",
    "    # handling non-numerical data: must convert.\n",
    "    columns = df.columns.values\n",
    "\n",
    "    for column in columns:\n",
    "        text_digit_vals = {}\n",
    "        def convert_to_int(val):\n",
    "            return text_digit_vals[val]\n",
    "\n",
    "        #print(column,df[column].dtype)\n",
    "        if df[column].dtype != np.int64 and df[column].dtype != np.float64:\n",
    "            \n",
    "            column_contents = df[column].values.tolist()\n",
    "            #finding just the uniques\n",
    "            unique_elements = set(column_contents)\n",
    "            # great, found them. \n",
    "            x = 0\n",
    "            for unique in unique_elements:\n",
    "                if unique not in text_digit_vals:\n",
    "                    # creating dict that contains new\n",
    "                    # id per unique string\n",
    "                    text_digit_vals[unique] = x\n",
    "                    x+=1\n",
    "            # now we map the new \"id\" vlaue\n",
    "            # to replace the string. \n",
    "            df[column] = list(map(convert_to_int,df[column]))\n",
    "            \n",
    "    return df"
   ]
  },
  {
   "cell_type": "code",
   "execution_count": 4,
   "metadata": {},
   "outputs": [],
   "source": [
    "df = handle_non_numerical_data(df)\n",
    "df.drop(['ticket','home.dest'], 1, inplace=True)"
   ]
  },
  {
   "cell_type": "code",
   "execution_count": 5,
   "metadata": {},
   "outputs": [],
   "source": [
    "X = np.array(df.drop(['survived'], 1).astype(float))\n",
    "X = preprocessing.scale(X)\n",
    "y = np.array(df['survived'])"
   ]
  },
  {
   "cell_type": "code",
   "execution_count": 6,
   "metadata": {},
   "outputs": [
    {
     "data": {
      "text/plain": [
       "MeanShift()"
      ]
     },
     "execution_count": 6,
     "metadata": {},
     "output_type": "execute_result"
    }
   ],
   "source": [
    "clf = MeanShift()\n",
    "clf.fit(X)"
   ]
  },
  {
   "cell_type": "code",
   "execution_count": 7,
   "metadata": {},
   "outputs": [],
   "source": [
    "labels = clf.labels_\n",
    "cluster_centers = clf.cluster_centers_"
   ]
  },
  {
   "cell_type": "code",
   "execution_count": 8,
   "metadata": {},
   "outputs": [],
   "source": [
    "original_df['cluster_group'] = np.nan"
   ]
  },
  {
   "cell_type": "code",
   "execution_count": 10,
   "metadata": {},
   "outputs": [
    {
     "name": "stderr",
     "output_type": "stream",
     "text": [
      "C:\\Users\\DA\\anaconda3\\lib\\site-packages\\pandas\\core\\indexing.py:670: SettingWithCopyWarning: \n",
      "A value is trying to be set on a copy of a slice from a DataFrame\n",
      "\n",
      "See the caveats in the documentation: https://pandas.pydata.org/pandas-docs/stable/user_guide/indexing.html#returning-a-view-versus-a-copy\n",
      "  iloc._setitem_with_indexer(indexer, value)\n"
     ]
    }
   ],
   "source": [
    "for i in range(len(X)):\n",
    "    original_df['cluster_group'].iloc[i] = labels[i]"
   ]
  },
  {
   "cell_type": "code",
   "execution_count": 11,
   "metadata": {},
   "outputs": [
    {
     "name": "stdout",
     "output_type": "stream",
     "text": [
      "{0: 0.358974358974359, 1: 1.0, 2: 0.1, 3: 0.5925925925925926, 4: 0.7586206896551724}\n"
     ]
    }
   ],
   "source": [
    "n_clusters_ = len(np.unique(labels))\n",
    "survival_rates = {}\n",
    "\n",
    "for i in range(n_clusters_):\n",
    "    temp_df = original_df[ (original_df['cluster_group']==float(i)) ]\n",
    "    # print(temp_df.head())\n",
    "    \n",
    "    survival_cluster = temp_df[  (temp_df['survived'] == 1) ]\n",
    "    \n",
    "    survival_rate = len(survival_cluster) / len(temp_df)\n",
    "    # print(i,survival_rate)\n",
    "    survival_rates[i] = survival_rate\n",
    "\n",
    "print(survival_rates)"
   ]
  },
  {
   "cell_type": "code",
   "execution_count": 12,
   "metadata": {},
   "outputs": [
    {
     "name": "stdout",
     "output_type": "stream",
     "text": [
      "     pclass  survived                                               name  \\\n",
      "35        1         1                           Bowen, Miss. Grace Scott   \n",
      "49        1         1                 Cardeza, Mr. Thomas Drake Martinez   \n",
      "50        1         1  Cardeza, Mrs. James Warburton Martinez (Charlo...   \n",
      "183       1         1                             Lesurer, Mr. Gustave J   \n",
      "302       1         1                                   Ward, Miss. Anna   \n",
      "\n",
      "        sex   age  sibsp  parch    ticket      fare        cabin embarked  \\\n",
      "35   female  45.0      0      0  PC 17608  262.3750          NaN        C   \n",
      "49     male  36.0      0      1  PC 17755  512.3292  B51 B53 B55        C   \n",
      "50   female  58.0      0      1  PC 17755  512.3292  B51 B53 B55        C   \n",
      "183    male  35.0      0      0  PC 17755  512.3292         B101        C   \n",
      "302  female  35.0      0      0  PC 17755  512.3292          NaN        C   \n",
      "\n",
      "    boat  body                                       home.dest  cluster_group  \n",
      "35     4   NaN                                 Cooperstown, NY            1.0  \n",
      "49     3   NaN  Austria-Hungary / Germantown, Philadelphia, PA            1.0  \n",
      "50     3   NaN                    Germantown, Philadelphia, PA            1.0  \n",
      "183    3   NaN                                             NaN            1.0  \n",
      "302    3   NaN                                             NaN            1.0  \n"
     ]
    }
   ],
   "source": [
    "print(original_df[ (original_df['cluster_group']==1) ])"
   ]
  },
  {
   "cell_type": "code",
   "execution_count": 13,
   "metadata": {},
   "outputs": [
    {
     "name": "stdout",
     "output_type": "stream",
     "text": [
      "            pclass     survived         age        sibsp        parch  \\\n",
      "count  1209.000000  1209.000000  949.000000  1209.000000  1209.000000   \n",
      "mean      2.383788     0.358974   28.903319     0.486352     0.315964   \n",
      "std       0.791052     0.479898   14.012125     1.061840     0.669401   \n",
      "min       1.000000     0.000000    0.166700     0.000000     0.000000   \n",
      "25%       2.000000     0.000000   20.000000     0.000000     0.000000   \n",
      "50%       3.000000     0.000000   27.000000     0.000000     0.000000   \n",
      "75%       3.000000     1.000000   36.000000     1.000000     0.000000   \n",
      "max       3.000000     1.000000   80.000000     8.000000     4.000000   \n",
      "\n",
      "              fare        body  cluster_group  \n",
      "count  1208.000000  108.000000         1209.0  \n",
      "mean     23.886651  159.000000            0.0  \n",
      "std      27.144400   98.958974            0.0  \n",
      "min       0.000000    1.000000            0.0  \n",
      "25%       7.895800   69.750000            0.0  \n",
      "50%      13.000000  155.500000            0.0  \n",
      "75%      26.550000  256.750000            0.0  \n",
      "max     227.525000  328.000000            0.0  \n"
     ]
    }
   ],
   "source": [
    "print(original_df[ (original_df['cluster_group']==0) ].describe())"
   ]
  },
  {
   "cell_type": "code",
   "execution_count": 14,
   "metadata": {},
   "outputs": [
    {
     "name": "stdout",
     "output_type": "stream",
     "text": [
      "       pclass   survived        age      sibsp      parch       fare  \\\n",
      "count    10.0  10.000000   8.000000  10.000000  10.000000  10.000000   \n",
      "mean      3.0   0.100000  39.875000   0.800000   6.000000  42.703750   \n",
      "std       0.0   0.316228   1.552648   0.421637   1.632993  15.590194   \n",
      "min       3.0   0.000000  38.000000   0.000000   5.000000  29.125000   \n",
      "25%       3.0   0.000000  39.000000   1.000000   5.000000  31.303125   \n",
      "50%       3.0   0.000000  39.500000   1.000000   5.000000  35.537500   \n",
      "75%       3.0   0.000000  40.250000   1.000000   6.000000  46.900000   \n",
      "max       3.0   1.000000  43.000000   1.000000   9.000000  69.550000   \n",
      "\n",
      "             body  cluster_group  \n",
      "count    2.000000           10.0  \n",
      "mean   234.500000            2.0  \n",
      "std    130.814755            0.0  \n",
      "min    142.000000            2.0  \n",
      "25%    188.250000            2.0  \n",
      "50%    234.500000            2.0  \n",
      "75%    280.750000            2.0  \n",
      "max    327.000000            2.0  \n"
     ]
    }
   ],
   "source": [
    "print(original_df[ (original_df['cluster_group']==2) ].describe())"
   ]
  },
  {
   "cell_type": "code",
   "execution_count": 15,
   "metadata": {},
   "outputs": [
    {
     "name": "stdout",
     "output_type": "stream",
     "text": [
      "       pclass    survived         age       sibsp       parch        fare  \\\n",
      "count   235.0  235.000000  196.000000  235.000000  235.000000  235.000000   \n",
      "mean      1.0    0.582979   38.964286    0.357447    0.238298   59.673067   \n",
      "std       0.0    0.494119   14.138373    0.514634    0.533715   39.683415   \n",
      "min       1.0    0.000000    4.000000    0.000000    0.000000    0.000000   \n",
      "25%       1.0    0.000000   28.000000    0.000000    0.000000   28.500000   \n",
      "50%       1.0    1.000000   39.000000    0.000000    0.000000   52.000000   \n",
      "75%       1.0    1.000000   49.000000    1.000000    0.000000   79.200000   \n",
      "max       1.0    1.000000   80.000000    2.000000    2.000000  227.525000   \n",
      "\n",
      "             body  cluster_group  \n",
      "count   24.000000          235.0  \n",
      "mean   161.750000            0.0  \n",
      "std     84.233242            0.0  \n",
      "min     16.000000            0.0  \n",
      "25%    109.750000            0.0  \n",
      "50%    167.500000            0.0  \n",
      "75%    235.250000            0.0  \n",
      "max    307.000000            0.0  \n"
     ]
    }
   ],
   "source": [
    "cluster_0 = (original_df[ (original_df['cluster_group']==0) ])\n",
    "cluster_0_fc = (cluster_0[ (cluster_0['pclass']==1) ])\n",
    "print(cluster_0_fc.describe())"
   ]
  },
  {
   "cell_type": "code",
   "execution_count": null,
   "metadata": {},
   "outputs": [],
   "source": []
  }
 ],
 "metadata": {
  "kernelspec": {
   "display_name": "Python 3",
   "language": "python",
   "name": "python3"
  },
  "language_info": {
   "codemirror_mode": {
    "name": "ipython",
    "version": 3
   },
   "file_extension": ".py",
   "mimetype": "text/x-python",
   "name": "python",
   "nbconvert_exporter": "python",
   "pygments_lexer": "ipython3",
   "version": "3.8.5"
  }
 },
 "nbformat": 4,
 "nbformat_minor": 2
}
